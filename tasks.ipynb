{
 "cells": [
  {
   "cell_type": "markdown",
   "metadata": {},
   "source": [
    "<h1><img align=\"right\" width=\"350\" src=\"img/ATU-Logo-Full-RGB-Green.jpg\"> Applied Statistics - Module Tasks\n",
    "</h1>\n",
    "<p> \n",
    "Course: HDip in Computing in Data Analytics <br>\n",
    "Module: Applied Statistics <br>\n",
    "Lecturer: Ian McLoughlin <br>\n",
    "\n",
    "Module Tasks\n",
    "\n",
    "Student: Eilis Donohue (G00006088)\n",
    "\n",
    "\n",
    "Software Used: \n",
    " - Python v3.10 and higher [HOLD]\n",
    " - Jupyter Notebook 6.5.2 [HOLD] \n",
    " </p>\n",
    " \n",
    "---"
   ]
  },
  {
   "cell_type": "markdown",
   "metadata": {},
   "source": [
    "## Table of Contents\n",
    "- [Task 1 - Lady Tasting Tea](#Task1)\n",
    "- [Task 2 - numpy's Normal Distribution](#Task2)\n",
    "- [Task 3 - t-test Calculation](#Task3)\n",
    "- [Task 4 - ANOVA](#Task4)\n",
    "- [References](#Ref)\n",
    "\n",
    "\n",
    "---"
   ]
  },
  {
   "cell_type": "markdown",
   "metadata": {},
   "source": [
    "\n",
    "## Task 1 - Lady Tasting Tea <a id=\"Task1\"></a> <span style=\"font-size: 8pt;\"> [[TOC]](#toc)</span>\n",
    "\n",
    "### Background \n",
    "\n",
    "The Lady Tasting Tea is a hypothetical randomised experiment devised by Ronald Fisher and reported in his 1935 book \"The Design of Experiments\" [1]. In the experiment, a lady is asked to identify from 8 cups of tea, which 4 cups have had the milk added before the tea. \n",
    "\n",
    "Fisher's notion of the \"null hypothesis\" is demonstrated in the description of the experiment. The null hypothesis is that the lady has no ability to distinguish between the cups of tea. The alternative hypothesis is that the lady can distinguish between the cups which have the milk added first and vice versa."
   ]
  },
  {
   "cell_type": "markdown",
   "metadata": {},
   "source": [
    "### Experiment/Calculation Assumptions\n",
    "\n",
    "- The null hypothesis is assumed - that is that the lady has no special tasting powers and is choosing the cups at random. \n",
    "\n",
    "- The cups are indistinguishable from each other."
   ]
  },
  {
   "cell_type": "markdown",
   "metadata": {},
   "source": [
    "### Outcome\n",
    "Assuming the null hypothesis (the lady is guessing and has no special tasting powers), the probability of the lady selecting the 4 cups with the milk in first is 1 in 70 which is a less than 5% probability. This is calculated using the binomial coefficient formula [2].\n",
    "\n",
    "If the lady correctly identifies the 4 cups with the milk in first, then the null hypothesis may be rejected and the alternative hypothesis is accepted (she has a special tea tasting prowess).\n",
    "\n",
    "Fisher has demonstrated an experiment design where the null hypothesis can be tested and either accepted or rejected based on the outcome of the experiment, given the known probability of the lady selecting the 4 cups at random."
   ]
  },
  {
   "cell_type": "markdown",
   "metadata": {},
   "source": [
    "### The Binomial Coefficient\n",
    "\n",
    "Given the problem where there are 12 cups which 6 having the milk in first, the probability of picking the 6 cups, assuming the null hypothesis, is calculated below.\n",
    "\n",
    "The possible number of combinations considering n number of cups with k number which have the attribute are calculated using the binomial coefficient [1]:\n",
    "\n",
    "$ \\binom{n}{k} = \\frac{n!}{k!(n-k)!} $\n",
    "\n",
    "If there are 12 cups of tea - 6 of which have the tea added first then the problem is:\n",
    "\n",
    "$ \\binom{12}{6} = \\frac{12!}{6!(12-6)!} $\n",
    "\n",
    "This gives 924 possible permutations given a completely random outcome of 12 cups with 6 having the attribute (milk first). Therefore there is a 1 in 924 chance of identifying the 6 cups correctly."
   ]
  },
  {
   "cell_type": "markdown",
   "metadata": {},
   "source": [
    "### Derivation\n",
    "\n",
    "The Binomial coefficient above can be derived from the fact that 12! is the number of ways 12 things can be combined randomly:\n",
    "\n",
    "This is described by:\n",
    "\n",
    "$ 12! = 12 \\times 11 \\times 10 \\times 9 \\times 8 \\times 7 \\times 6 \\times 5 \\times 4 \\times 3 \\times 2 \\times 1 $\n",
    "\n",
    "In the experiment, only 6 things are being chosen from 12: \n",
    "\n",
    "This can be written as follows, where the 6! below the line cancels the last 6 terms of the 12! above the line:\n",
    "\n",
    "$ 12 \\times 11 \\times 10 \\times 9 \\times 8 \\times 7 = \\frac{12!}{6!} $\n",
    "\n",
    "This is the $ \\frac{n!}{(n-k)!} $ part of the Binomial equation above.\n",
    "\n",
    "This is equal to 665280 combinations."
   ]
  },
  {
   "cell_type": "markdown",
   "metadata": {},
   "source": [
    "However, for the purpose of the experiment where 6 unorderable things are picked, the order in which they are picked does not matter. The number of ways the 6 items could be ordered is equal to:\n",
    "\n",
    "$ 6! = 6 \\times 5 \\times 4 \\times 3 \\times 2 \\times 1 $\n",
    "\n",
    "This is equal to 720.\n",
    "\n",
    "So, the total number of combinations must be divided by the 720 ways the chosen items could be shuffled. This is the $ \\frac{1}{k!} $ part of the binomial coefficient equation above.\n",
    "\n",
    "This reduces the number of ways the 6 items can be picked (assuming that these are not orderable), to $ \\frac{665280}{720} = 924 $ \n",
    "\n",
    "So, if 6 things with a given attritube are to be picked, assuming that they're being chosen is entirely due to chance, the chances of the 6 things with the attribute being picked from a total of 12, is 1 in 924 or 0.11%."
   ]
  },
  {
   "cell_type": "code",
   "execution_count": 45,
   "metadata": {},
   "outputs": [
    {
     "data": {
      "text/plain": [
       "924.0"
      ]
     },
     "execution_count": 45,
     "metadata": {},
     "output_type": "execute_result"
    }
   ],
   "source": [
    "# Python implementation of the Binomial Coefficient equation\n",
    "import math\n",
    "import matplotlib.pyplot as plt\n",
    "\n",
    "# Function to compute the number of combinations of selection - The binomial coefficient [1]\n",
    "def binomial_coef(n, k):\n",
    "  combinations = math.factorial(n) / (math.factorial(k) * math.factorial (n - k))   \n",
    "  return combinations\n",
    "\n",
    "cups = 12\n",
    "choose = 6\n",
    "\n",
    "no_of_combinations = binomial_coef(cups, choose)\n",
    "no_of_combinations"
   ]
  },
  {
   "cell_type": "code",
   "execution_count": 46,
   "metadata": {},
   "outputs": [
    {
     "name": "stdout",
     "output_type": "stream",
     "text": [
      "The total number of combination selections for 12 cups where 6 are chosen is 924\n",
      "Probability of guessing 6 cups with given attribute correctly is 0.0011 or 0.11%\n"
     ]
    }
   ],
   "source": [
    "# Calculate the total number of combinations of picking 6 cups from 12 \n",
    "#total_combinations = binomial_coef(cups, choose)\n",
    "# Use math inbuilt .comb instead\n",
    "total_combinations = math.comb(cups, choose)  # [4]\n",
    "# The probability of picking all 6 with the attribute is (1 way of doing this)\n",
    "Prob_all_successes = 1 / total_combinations\n",
    "\n",
    "print(f'The total number of combination selections for {cups} cups where {choose} are chosen is {total_combinations:.0f}')\n",
    "print(f'Probability of guessing {choose} cups with given attribute correctly is {Prob_all_successes:.4f} or {Prob_all_successes*100:.2f}%')"
   ]
  },
  {
   "cell_type": "markdown",
   "metadata": {},
   "source": [
    "### The Hypergeometric Distribution [2]\n",
    "\n",
    "The hypergeometric distribution describes the probability distribution for this problem as above [2]. It is a discrete probability distribution that describes the probability of k successes (random draws for which the object drawn has a specified feature) in n draws, without replacement, from a finite population of size N that contains exactly K objects with that feature, wherein each draw is either a success or a failure.\n",
    "\n",
    "$ px(k) = Pr(X=k) = \\frac{\\binom{K}{k} \\binom{N-K}{n-k}}{\\binom{N}{n}} ,$\n",
    "\n",
    "where\n",
    "N is the population size\n",
    "\n",
    "K is the number of success states in the population\n",
    "\n",
    "n is the number of draws\n",
    "\n",
    "k is the number of observed successes\n"
   ]
  },
  {
   "cell_type": "code",
   "execution_count": 36,
   "metadata": {},
   "outputs": [
    {
     "name": "stdout",
     "output_type": "stream",
     "text": [
      "Probability of picking exactly 4 of 6 is 0.2435 \n",
      "exactly 5 of 6 is 0.0390 \n",
      "and 6 of 6 is 0.0011\n",
      "Probability of picking at least 4 with the attribute is 0.2835\n"
     ]
    }
   ],
   "source": [
    "# Implementation of the hypergeometric distribution\n",
    "# total number of items is N\n",
    "# no of items with the attribute is K\n",
    "# no of draws is n\n",
    "# successes is k\n",
    "#pmf =  (combinations_form(K, k) * combinations_form((N-K), (n-k)))/combinations_form(N,n)   # [2]\n",
    "\n",
    "pmf_4_of_6 = (binomial_coef(6, 4) * binomial_coef((12-6), (6-4)))/binomial_coef(12,6)   # [1]\n",
    "pmf_5_of_6 = (binomial_coef(6, 5) * binomial_coef((12-6), (6-5)))/binomial_coef(12,6)   # [1]\n",
    "pmf_6_of_6 = (binomial_coef(6, 6) * binomial_coef((12-6), (6-6)))/binomial_coef(12,6)   # [1]\n",
    "\n",
    "print(f'Probability of picking exactly 4 of 6 is {pmf_4_of_6:.4f} \\n' \n",
    "      f'exactly 5 of 6 is {pmf_5_of_6:.4f} \\n' \n",
    "      f'and 6 of 6 is {pmf_6_of_6:.4f}')\n",
    "# Add the probability of exactly 4, 5, 6 to get the probability of at least 4\n",
    "pmf_4_of_6_at_least = pmf_4_of_6 + pmf_5_of_6 + pmf_6_of_6\n",
    "\n",
    "print(f'Probability of picking at least 4 with the attribute is {pmf_4_of_6_at_least:.4f}')\n"
   ]
  },
  {
   "cell_type": "code",
   "execution_count": 50,
   "metadata": {},
   "outputs": [
    {
     "data": {
      "image/png": "[encoded data removed]",
      "text/plain": [
       "<Figure size 800x600 with 1 Axes>"
      ]
     },
     "metadata": {},
     "output_type": "display_data"
    }
   ],
   "source": [
    "# Generate the hypergeometric distribution for all possible outcomes and plot\n",
    "pmf = []\n",
    "for i in range(choose+1):\n",
    "      prob = (binomial_coef(choose, i) * binomial_coef((cups-choose), (choose-i)))/binomial_coef(cups,choose)   # [1]\n",
    "      pmf.append(prob)\n",
    "\n",
    "plt.figure(figsize=(8, 6))\n",
    "plt.bar(range(6 + 1), pmf, color='blue', alpha=0.7)\n",
    "plt.title('Hypergeometric Distribution (N=12, n=6)')\n",
    "plt.xlabel('Number of Successes (k)')\n",
    "plt.ylabel('Probability')\n",
    "plt.show()"
   ]
  },
  {
   "cell_type": "code",
   "execution_count": 38,
   "metadata": {},
   "outputs": [],
   "source": [
    "# Altenative method to calculate the probability of at least 4 successes (slightly different from lecture)\n",
    "# Create a list of the population\n",
    "\n",
    "import itertools\n",
    "import numpy as np\n",
    "import matplotlib.pyplot as plt\n",
    "# Random selections.\n",
    "# https://docs.python.org/3/library/random.html\n",
    "import random"
   ]
  },
  {
   "cell_type": "code",
   "execution_count": 39,
   "metadata": {},
   "outputs": [],
   "source": [
    "#cups = ['milk_first','milk_first', 'milk_first', 'milk_first', 'milk_first', 'milk_first', 'tea_first', 'tea_first', 'tea_first', 'tea_first', 'tea_first', 'tea_first']\n",
    "cups = ['milk_first','milk_first', 'milk_first', 'milk_first', 'tea_first', 'tea_first', 'tea_first', 'tea_first']\n",
    "\n",
    "cups_to_choose = 4"
   ]
  },
  {
   "cell_type": "code",
   "execution_count": 43,
   "metadata": {},
   "outputs": [
    {
     "name": "stdout",
     "output_type": "stream",
     "text": [
      "The number of ways of picking 6 items from the population is 70\n"
     ]
    }
   ],
   "source": [
    "# The ways to choose 6 cups from 12\n",
    "combs = list(itertools.combinations(cups, cups_to_choose))\n",
    "print(f'The number of ways of picking 6 items from the population is {len(combs)}')"
   ]
  },
  {
   "cell_type": "code",
   "execution_count": 27,
   "metadata": {},
   "outputs": [],
   "source": [
    "# For each combination, count the number of 'milk_first' items\n",
    "milk_first_counts = [comb.count('milk_first') for comb in combs]"
   ]
  },
  {
   "cell_type": "code",
   "execution_count": 28,
   "metadata": {},
   "outputs": [
    {
     "data": {
      "image/png": "[encoded data removed]",
      "text/plain": [
       "<Figure size 800x600 with 1 Axes>"
      ]
     },
     "metadata": {},
     "output_type": "display_data"
    }
   ],
   "source": [
    "# Plot the histogram of the milk first cups in each combination\n",
    "plt.figure(figsize=(8, 6))\n",
    "counts, bins, _ = plt.hist(milk_first_counts, bins=range(0, max(milk_first_counts) + 2), align='left', rwidth=0.8)\n",
    "plt.xlabel('Number of \"milk_first\" in combination')\n",
    "plt.ylabel('Frequency')\n",
    "plt.title('Histogram of \"milk_first\" Counts in Combinations')\n",
    "plt.show()"
   ]
  },
  {
   "cell_type": "code",
   "execution_count": 29,
   "metadata": {},
   "outputs": [
    {
     "data": {
      "text/plain": [
       "array([ 1., 16., 36., 16.,  1.])"
      ]
     },
     "execution_count": 29,
     "metadata": {},
     "output_type": "execute_result"
    }
   ],
   "source": [
    "# The output from the histogram\n",
    "counts"
   ]
  },
  {
   "cell_type": "code",
   "execution_count": 30,
   "metadata": {},
   "outputs": [
    {
     "name": "stdout",
     "output_type": "stream",
     "text": [
      "Probability of picking at least 4 with the milk first is 0.0143 or 1.43%\n",
      "Probability of picking at least 5 with the milk first is 0.0000 or 0.00%\n"
     ]
    }
   ],
   "source": [
    "# Calculate the probability from the histogram data\n",
    "successes_4 = sum(counts[4:])\n",
    "successes_5 = sum(counts[5:])\n",
    "total_combinations = sum(counts)\n",
    "prob_4_or_more = successes_4 / total_combinations\n",
    "prob_5_or_more = successes_5 / total_combinations\n",
    "\n",
    "print(f'Probability of picking at least 4 with the milk first is {prob_4_or_more:.4f} or {prob_4_or_more*100:.2f}%')\n",
    "print(f'Probability of picking at least 5 with the milk first is {prob_5_or_more:.4f} or {prob_5_or_more*100:.2f}%')"
   ]
  },
  {
   "cell_type": "markdown",
   "metadata": {},
   "source": [
    "### Significance of allowing 2 mistakes [HOLD]\n",
    "\n",
    "So, if the experiment is designed whereby the lady or tea-taster is allowed to make 2 mistakes, then there is a 28% chance that they will \"pass\" the test. Therefore there is a significant probability that the experiment will generate a false positive, i.e., the taster will choose the correct cups purely by chance. By comparison, allowing only 1 mistake would mean a <5% chance of picking the correct cups. This makes for a more robust experiment in that a false positive is unlikely or at least there is a <5% probability of a false positive."
   ]
  },
  {
   "cell_type": "markdown",
   "metadata": {},
   "source": [
    "## Task 2 - numpy's Normal Distribution <a id=\"Task2\"></a> <span style=\"font-size: 8pt;\"> [[TOC]](#toc)</span>"
   ]
  },
  {
   "cell_type": "code",
   "execution_count": 31,
   "metadata": {},
   "outputs": [
    {
     "data": {
      "text/plain": [
       "array([10.93889781,  7.4192699 ,  9.60668698, ..., 10.22995638,\n",
       "       10.50102018,  9.23973906])"
      ]
     },
     "execution_count": 31,
     "metadata": {},
     "output_type": "execute_result"
    }
   ],
   "source": [
    "# Generate the random normal distributed data with numpy generator\n",
    "\n",
    "import numpy as np\n",
    "import matplotlib.pyplot as plt\n",
    "\n",
    "n = 100000\n",
    "mean = 10\n",
    "st_dev = 3\n",
    "\n",
    "data = np.random.normal(loc=mean, scale=st_dev, size=n)\n",
    "data"
   ]
  },
  {
   "cell_type": "markdown",
   "metadata": {},
   "source": [
    "#### The Shapiro-Wilk Test\n",
    "\n",
    "The Shapiro-Wilk test is a test of normality [5]. The null hypothesis of the test is that the data is normally distributed. If the p-value is less than the chosen alpha level, then the null hypothesis is rejected and there is evidence that the data is not normally distributed.\n",
    "\n",
    "The p-value is the probability of observing a test statistic as extreme as the one computed, assuming that the null hypothesis is true. The p-value is used to determine the significance of the test. If the p-value is less than the significance level, the data is not normal.\n",
    "\n",
    "In the example below, where the data has been generated using numpy's random.normal function, the Shapiro-Wilk test returns a p-value of 0.5. The p-value is compared to the alpha or significance level of 0.05 to determine if the null hypothesis can be rejected. The returned value of 0.501 indicates that the data is normally distributed.\n",
    "\n",
    "The statistic or W value is a measure of the strength of the relationship between the data and the normal distribution. The closer W is to 1, the more likely the data is to be normally distributed.\n",
    "\n"
   ]
  },
  {
   "cell_type": "code",
   "execution_count": 32,
   "metadata": {},
   "outputs": [
    {
     "name": "stdout",
     "output_type": "stream",
     "text": [
      "Statistic: 1.0000, p-value: 0.7557\n"
     ]
    },
    {
     "name": "stderr",
     "output_type": "stream",
     "text": [
      "c:\\Users\\eilis.donohue\\AppData\\Local\\anaconda3\\lib\\site-packages\\scipy\\stats\\_morestats.py:1816: UserWarning: p-value may not be accurate for N > 5000.\n",
      "  warnings.warn(\"p-value may not be accurate for N > 5000.\")\n"
     ]
    }
   ],
   "source": [
    "# scipy.stats.shapiro() test\n",
    "import scipy\n",
    "statistic, pvalue = scipy.stats.shapiro(data)\n",
    "print(f'Statistic: {statistic:.4f}, p-value: {pvalue:.4f}')"
   ]
  },
  {
   "cell_type": "markdown",
   "metadata": {},
   "source": [
    "The normal distribution probability distribution function is included in scipy stats package [6]. The random generated data can be automatically scaled when it is plotted using the plt.hist function. As expected, there is close agreement between the histogram of the data and the normal distribution pdf curve.\n"
   ]
  },
  {
   "cell_type": "code",
   "execution_count": 33,
   "metadata": {},
   "outputs": [
    {
     "data": {
      "image/png": "[encoded data removed]",
      "text/plain": [
       "<Figure size 800x600 with 1 Axes>"
      ]
     },
     "metadata": {},
     "output_type": "display_data"
    }
   ],
   "source": [
    "# Using scipy stats for normal pdf\n",
    "from scipy.stats import norm\n",
    "\n",
    "no_of_bins = 100\n",
    "plt.figure(figsize=(8, 6))\n",
    "count, bins, _ = plt.hist(data, bins=no_of_bins, density=True)  # Plot the normal random data normalised, return the bins and counts\n",
    "\n",
    "# Use the bins returned from the histogram to plot the normal pdf\n",
    "pdf_fitted_norm = norm.pdf(bins, loc=mean, scale=st_dev)  \n",
    "plt.plot(bins, pdf_fitted_norm, 'r', label='Normal PDF');\n",
    "plt.title('Random Normal Data and Fitted Normal PDF')\n",
    "plt.legend();"
   ]
  },
  {
   "cell_type": "markdown",
   "metadata": {},
   "source": [
    "### Task 3 - t-test Calculation <a id=\"Task3\"></a> <span style=\"font-size: 8pt;\"> [[TOC]](#toc)</span>"
   ]
  },
  {
   "cell_type": "markdown",
   "metadata": {},
   "source": [
    "### Task 4 - ANOVA <a id=\"Task4\"></a> <span style=\"font-size: 8pt;\"> [[TOC]](#toc)</span>"
   ]
  },
  {
   "cell_type": "markdown",
   "metadata": {},
   "source": [
    "## References <a id=\"Ref\"></a> <span style=\"font-size: 8pt;\"> [[TOC]](#toc)</span>\n",
    "\n",
    "1. https://en.wikipedia.org/wiki/Lady_tasting_tea (accessed 23th Sept 2024)\n",
    "2. https://en.wikipedia.org/wiki/Hypergeometric_distribution (accessed 26th Sept 2024)\n",
    "3. https://numpy.org/doc/stable/reference/random/index.html (accessed 26th Sept 2024)\n",
    "4. https://docs.python.org/3/library/math.html#math.comb (accessed 5th Oct 2024)\n",
    "5. https://en.wikipedia.org/wiki/Shapiro%E2%80%93Wilk_test (accessed 20th Oct 2024)\n",
    "6. https://docs.scipy.org/doc/scipy/reference/generated/scipy.stats.norm.html (accessed 20th Oct 2024)"
   ]
  },
  {
   "cell_type": "code",
   "execution_count": null,
   "metadata": {},
   "outputs": [],
   "source": []
  },
  {
   "cell_type": "code",
   "execution_count": null,
   "metadata": {},
   "outputs": [],
   "source": []
  },
  {
   "cell_type": "markdown",
   "metadata": {},
   "source": []
  },
  {
   "cell_type": "markdown",
   "metadata": {},
   "source": []
  }
 ],
 "metadata": {
  "kernelspec": {
   "display_name": "base",
   "language": "python",
   "name": "python3"
  },
  "language_info": {
   "codemirror_mode": {
    "name": "ipython",
    "version": 3
   },
   "file_extension": ".py",
   "mimetype": "text/x-python",
   "name": "python",
   "nbconvert_exporter": "python",
   "pygments_lexer": "ipython3",
   "version": "3.10.9"
  }
 },
 "nbformat": 4,
 "nbformat_minor": 2
}
