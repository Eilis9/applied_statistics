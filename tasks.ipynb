{
 "cells": [
  {
   "cell_type": "markdown",
   "metadata": {},
   "source": [
    "<h1><img align=\"right\" width=\"350\" src=\"img/atu-logo-full-rgb-green.jpg\"> Applied Statistics - Module Tasks\n",
    "</h1>\n",
    "<p> \n",
    "Course: HDip in Computing in Data Analytics <br>\n",
    "Module: Applied Statistics <br>\n",
    "Lecturer: Ian McLoughlin <br>\n",
    "\n",
    "Module Tasks\n",
    "\n",
    "Student: Eilis Donohue (G00006088)\n",
    "\n",
    "Software Used: \n",
    " - Python v3.12 [HOLD]\n",
    " - Jupyter Notebook 6.5.2 [HOLD] \n",
    " </p>\n",
    " \n",
    "---"
   ]
  },
  {
   "cell_type": "markdown",
   "metadata": {},
   "source": [
    "## Table of Contents\n",
    "- [Task 1 - Lady Tasting Tea](#Task1)\n",
    "- [Task 2 - numpy's Normal Distribution](#Task2)\n",
    "- [Task 3 - t-test Calculation](#Task3)\n",
    "- [Task 4 - ANOVA](#Task4)\n",
    "- [References](#Ref)\n",
    "\n",
    "\n",
    "---"
   ]
  },
  {
   "cell_type": "code",
   "execution_count": 107,
   "metadata": {},
   "outputs": [],
   "source": [
    "# Import the required packages\n",
    "import math\n",
    "import matplotlib.pyplot as plt\n",
    "import itertools\n",
    "import numpy as np\n",
    "import matplotlib.pyplot as plt\n",
    "# Random selections\n",
    "# https://docs.python.org/3/library/random.html\n",
    "import random\n",
    "import scipy.stats as stats\n",
    "import pandas as pd\n",
    "import seaborn as sns\n",
    "from scipy.special import gamma, erf      # for ease of calculting some CDFs"
   ]
  },
  {
   "cell_type": "markdown",
   "metadata": {},
   "source": [
    "\n",
    "## Task 1 - Lady Tasting Tea <a id=\"Task1\"></a> <span style=\"font-size: 8pt;\"> [[TOC]](#toc)</span>\n",
    "### Task Description\n",
    "\n",
    "\n",
    "\n",
    "\n",
    "\n",
    "\n"
   ]
  },
  {
   "cell_type": "markdown",
   "metadata": {},
   "source": [
    "### Background \n",
    "\n",
    "The Lady Tasting Tea is a hypothetical randomised experiment devised by Ronald Fisher and reported in his 1935 book \"The Design of Experiments\" [1]. In the experiment, a lady is asked to identify from 8 cups of tea, which 4 cups have had the milk added before the tea. \n",
    "\n",
    "Fisher's notion of the \"null hypothesis\" is demonstrated in the description of the experiment. The null hypothesis is that the lady has no ability to distinguish between the cups of tea. The alternative hypothesis is that the lady can distinguish between the cups which have the milk added first and vice versa."
   ]
  },
  {
   "cell_type": "markdown",
   "metadata": {},
   "source": [
    "### Experiment / Calculation Assumptions\n",
    "\n",
    "- The null hypothesis is assumed - that is that the lady has no special tasting powers and is choosing the cups at random. \n",
    "\n",
    "- The cups are indistinguishable from each other."
   ]
  },
  {
   "cell_type": "markdown",
   "metadata": {},
   "source": [
    "### Outcome\n",
    "Assuming the null hypothesis (the lady is guessing and has no special tasting powers), the probability of the lady selecting the 4 cups with the milk in first is 1 in 70 which is a less than 5% probability. This is calculated using the binomial coefficient formula [2].\n",
    "\n",
    "If the lady correctly identifies the 4 cups with the milk in first, then the null hypothesis may be rejected and the alternative hypothesis is accepted (she has a special tea tasting prowess).\n",
    "\n",
    "Fisher has demonstrated an experiment design where the null hypothesis can be tested and either accepted or rejected based on the outcome of the experiment, given the known probability of the lady selecting the 4 cups at random."
   ]
  },
  {
   "cell_type": "markdown",
   "metadata": {},
   "source": [
    "### The Binomial Coefficient\n",
    "\n",
    "Given the problem where there are 12 cups which 6 having the milk in first, the probability of picking the 6 cups, assuming the null hypothesis, is calculated below.\n",
    "\n",
    "The possible number of combinations considering n number of cups with k number which have the attribute are calculated using the binomial coefficient [1]:\n",
    "\n",
    "$ \\binom{n}{k} = \\frac{n!}{k!(n-k)!} $\n",
    "\n",
    "If there are 12 cups of tea - 6 of which have the tea added first then the problem is:\n",
    "\n",
    "$ \\binom{12}{6} = \\frac{12!}{6!(12-6)!} $\n",
    "\n",
    "This gives 924 possible permutations given a completely random outcome of 12 cups with 6 having the attribute (milk first). Therefore there is a 1 in 924 chance of identifying the 6 cups correctly."
   ]
  },
  {
   "cell_type": "markdown",
   "metadata": {},
   "source": [
    "### Derivation\n",
    "\n",
    "The Binomial coefficient above can be derived from the fact that 12! is the number of ways 12 things can be combined randomly:\n",
    "\n",
    "This is described by:\n",
    "\n",
    "$ 12! = 12 \\times 11 \\times 10 \\times 9 \\times 8 \\times 7 \\times 6 \\times 5 \\times 4 \\times 3 \\times 2 \\times 1 $\n",
    "\n",
    "In the experiment, only 6 things are being chosen from 12: \n",
    "\n",
    "This can be written as follows, where the 6! below the line cancels the last 6 terms of the 12! above the line:\n",
    "\n",
    "$ 12 \\times 11 \\times 10 \\times 9 \\times 8 \\times 7 = \\frac{12!}{6!} $\n",
    "\n",
    "This is the $ \\frac{n!}{(n-k)!} $ part of the Binomial equation above.\n",
    "\n",
    "This is equal to 665280 combinations."
   ]
  },
  {
   "cell_type": "markdown",
   "metadata": {},
   "source": [
    "However, for the purpose of the experiment where 6 unorderable things are picked, the order in which they are picked does not matter. The number of ways the 6 items could be ordered is equal to:\n",
    "\n",
    "$ 6! = 6 \\times 5 \\times 4 \\times 3 \\times 2 \\times 1 $\n",
    "\n",
    "This is equal to 720.\n",
    "\n",
    "So, the total number of combinations must be divided by the 720 ways the chosen items could be shuffled. This is the $ \\frac{1}{k!} $ part of the binomial coefficient equation above.\n",
    "\n",
    "This reduces the number of ways the 6 items can be picked (assuming that these are not orderable), to $ \\frac{665280}{720} = 924 $ \n",
    "\n",
    "So, if 6 things with a given attritube are to be picked, assuming that they're being chosen is entirely due to chance, the chances of the 6 things with the attribute being picked from a total of 12, is 1 in 924 or 0.11%."
   ]
  },
  {
   "cell_type": "code",
   "execution_count": 108,
   "metadata": {},
   "outputs": [],
   "source": [
    "# Python implementation of the Binomial Coefficient equation\n",
    "# Function to compute the number of combinations of selection - The binomial coefficient [1]\n",
    "def binomial_coef(n, k):\n",
    "  combinations = math.factorial(n) / (math.factorial(k) * math.factorial (n - k))   \n",
    "  return combinations"
   ]
  },
  {
   "cell_type": "code",
   "execution_count": null,
   "metadata": {},
   "outputs": [
    {
     "data": {
      "text/plain": [
       "924.0"
      ]
     },
     "execution_count": 109,
     "metadata": {},
     "output_type": "execute_result"
    }
   ],
   "source": [
    "# Define the number of cups and the number of cups to choose\n",
    "cups = 12\n",
    "choose = 6\n",
    "\n",
    "# Compute the total number of combinations (without replacement and assuming order does not matter)\n",
    "no_of_combinations = binomial_coef(cups, choose)\n",
    "no_of_combinations"
   ]
  },
  {
   "cell_type": "markdown",
   "metadata": {},
   "source": [
    "Alternative method of calculating the number of combinations is to use inbuild math.comb function:"
   ]
  },
  {
   "cell_type": "code",
   "execution_count": 110,
   "metadata": {},
   "outputs": [
    {
     "name": "stdout",
     "output_type": "stream",
     "text": [
      "The total number of combination selections for 12 cups where 6 are chosen is 924\n",
      "Probability of guessing 6 cups with given attribute correctly is 0.0011 or 0.11%\n"
     ]
    }
   ],
   "source": [
    "# Calculate the total number of combinations of picking 6 cups from 12 \n",
    "#total_combinations = binomial_coef(cups, choose)\n",
    "# Use math inbuilt .comb instead\n",
    "total_combinations = math.comb(cups, choose)  # [4]\n",
    "# The probability of picking all 6 with the attribute is (1 way of doing this)\n",
    "Prob_all_successes = 1 / total_combinations\n",
    "\n",
    "print(f'The total number of combination selections for {cups} cups where {choose} are chosen is {total_combinations:.0f}')\n",
    "print(f'Probability of guessing {choose} cups with given attribute correctly is {Prob_all_successes:.4f} or {Prob_all_successes*100:.2f}%')"
   ]
  },
  {
   "cell_type": "markdown",
   "metadata": {},
   "source": [
    "### The Hypergeometric Distribution [2]\n",
    "\n",
    "The hypergeometric distribution describes the probability distribution for this problem as above [2]. It is a discrete probability distribution that describes the probability of k successes (random draws for which the object drawn has a specified feature) in n draws, without replacement, from a finite population of size N that contains exactly K objects with that feature, wherein each draw is either a success or a failure.\n",
    "\n",
    "$ px(k) = Pr(X=k) = \\frac{\\binom{K}{k} \\binom{N-K}{n-k}}{\\binom{N}{n}} ,$\n",
    "\n",
    "where\n",
    "N is the population size\n",
    "\n",
    "K is the number of success states in the population\n",
    "\n",
    "n is the number of draws\n",
    "\n",
    "k is the number of observed successes\n"
   ]
  },
  {
   "cell_type": "code",
   "execution_count": 111,
   "metadata": {},
   "outputs": [
    {
     "name": "stdout",
     "output_type": "stream",
     "text": [
      "Probability of picking exactly 4 of 6 is 0.2435 \n",
      "exactly 5 of 6 is 0.0390 \n",
      "and 6 of 6 is 0.0011\n",
      "Probability of picking at least 4 with the attribute is 0.2835\n"
     ]
    }
   ],
   "source": [
    "# Implementation of the hypergeometric distribution\n",
    "# total number of items is N\n",
    "# no of items with the attribute is K\n",
    "# no of draws is n\n",
    "# successes is k\n",
    "#pmf =  (combinations_form(K, k) * combinations_form((N-K), (n-k)))/combinations_form(N,n)   # [2]\n",
    "\n",
    "# Calculate the probability of picking exactly 4, 5, 6 cups with the attribute\n",
    "pmf_4_of_6 = (binomial_coef(6, 4) * binomial_coef((12-6), (6-4)))/binomial_coef(12,6)   # [1]\n",
    "pmf_5_of_6 = (binomial_coef(6, 5) * binomial_coef((12-6), (6-5)))/binomial_coef(12,6)   # [1]\n",
    "pmf_6_of_6 = (binomial_coef(6, 6) * binomial_coef((12-6), (6-6)))/binomial_coef(12,6)   # [1]\n",
    "\n",
    "print(f'Probability of picking exactly 4 of 6 is {pmf_4_of_6:.4f} \\n' \n",
    "      f'exactly 5 of 6 is {pmf_5_of_6:.4f} \\n' \n",
    "      f'and 6 of 6 is {pmf_6_of_6:.4f}')\n",
    "# Add the probability of exactly 4, 5, 6 to get the probability of at least 4\n",
    "pmf_4_of_6_at_least = pmf_4_of_6 + pmf_5_of_6 + pmf_6_of_6\n",
    "\n",
    "print(f'Probability of picking at least 4 with the attribute is {pmf_4_of_6_at_least:.4f}')"
   ]
  },
  {
   "cell_type": "code",
   "execution_count": 112,
   "metadata": {},
   "outputs": [
    {
     "data": {
      "image/png": "[encoded data removed]",
      "text/plain": [
       "<Figure size 800x600 with 1 Axes>"
      ]
     },
     "metadata": {},
     "output_type": "display_data"
    }
   ],
   "source": [
    "# Generate the hypergeometric distribution for all possible outcomes and plot\n",
    "pmf = []\n",
    "for i in range(choose+1):\n",
    "      prob = (binomial_coef(choose, i) * binomial_coef((cups-choose), (choose-i)))/binomial_coef(cups,choose)   # [1]\n",
    "      pmf.append(prob)\n",
    "\n",
    "plt.figure(figsize=(8, 6))\n",
    "plt.bar(range(6 + 1), pmf, color='blue', alpha=0.7)\n",
    "plt.title('Hypergeometric Distribution (N=12, n=6)')\n",
    "plt.xlabel('Number of Successes (k)')\n",
    "plt.ylabel('Probability')\n",
    "plt.show()"
   ]
  },
  {
   "cell_type": "markdown",
   "metadata": {},
   "source": [
    "Another method of calculating at least 4 successes:"
   ]
  },
  {
   "cell_type": "code",
   "execution_count": 113,
   "metadata": {},
   "outputs": [],
   "source": [
    "# Alternative method to calculate the probability of at least 4 successes (slightly different from lecture)\n",
    "# Create a list of the population and define the number of cups to choose\n",
    "cups = ['milk_first','milk_first', 'milk_first', 'milk_first', 'milk_first', 'milk_first', 'tea_first', 'tea_first', 'tea_first', 'tea_first', 'tea_first', 'tea_first']\n",
    "cups_to_choose = 6"
   ]
  },
  {
   "cell_type": "code",
   "execution_count": 114,
   "metadata": {},
   "outputs": [
    {
     "name": "stdout",
     "output_type": "stream",
     "text": [
      "The number of ways of picking 6 items from the population is 924\n"
     ]
    }
   ],
   "source": [
    "# The ways to choose 6 cups from 12\n",
    "combs = list(itertools.combinations(cups, cups_to_choose))\n",
    "print(f'The number of ways of picking 6 items from the population is {len(combs)}')"
   ]
  },
  {
   "cell_type": "code",
   "execution_count": 115,
   "metadata": {},
   "outputs": [],
   "source": [
    "# For each combination, count the number of 'milk_first' items\n",
    "milk_first_counts = [comb.count('milk_first') for comb in combs]"
   ]
  },
  {
   "cell_type": "code",
   "execution_count": 116,
   "metadata": {},
   "outputs": [
    {
     "data": {
      "image/png": "[encoded data removed]",
      "text/plain": [
       "<Figure size 800x600 with 1 Axes>"
      ]
     },
     "metadata": {},
     "output_type": "display_data"
    }
   ],
   "source": [
    "# Plot the histogram of the milk first cups in each combination\n",
    "plt.figure(figsize=(8, 6))\n",
    "counts, bins, _ = plt.hist(milk_first_counts, bins=range(0, max(milk_first_counts) + 2), align='left', rwidth=0.8)\n",
    "plt.xlabel('Number of \"milk_first\" in combination')\n",
    "plt.ylabel('Frequency')\n",
    "plt.title('Histogram of \"milk_first\" Counts in Combinations')\n",
    "plt.show()"
   ]
  },
  {
   "cell_type": "code",
   "execution_count": 117,
   "metadata": {},
   "outputs": [
    {
     "data": {
      "text/plain": [
       "array([  1.,  36., 225., 400., 225.,  36.,   1.])"
      ]
     },
     "execution_count": 117,
     "metadata": {},
     "output_type": "execute_result"
    }
   ],
   "source": [
    "# The output from the histogram\n",
    "counts"
   ]
  },
  {
   "cell_type": "code",
   "execution_count": 118,
   "metadata": {},
   "outputs": [
    {
     "name": "stdout",
     "output_type": "stream",
     "text": [
      "Probability of picking at least 4 with the milk first is 0.2835 or 28.35%\n",
      "Probability of picking at least 5 with the milk first is 0.0400 or 4.00%\n"
     ]
    }
   ],
   "source": [
    "# Calculate the probability from the histogram data\n",
    "successes_4 = sum(counts[4:])\n",
    "successes_5 = sum(counts[5:])\n",
    "total_combinations = sum(counts)\n",
    "prob_4_or_more = successes_4 / total_combinations\n",
    "prob_5_or_more = successes_5 / total_combinations\n",
    "\n",
    "print(f'Probability of picking at least 4 with the milk first is {prob_4_or_more:.4f} or {prob_4_or_more*100:.2f}%')\n",
    "print(f'Probability of picking at least 5 with the milk first is {prob_5_or_more:.4f} or {prob_5_or_more*100:.2f}%')"
   ]
  },
  {
   "cell_type": "markdown",
   "metadata": {},
   "source": [
    "### Significance of allowing 2 mistakes from 6 choices\n",
    "\n",
    "If the experiment is designed such that the lady or tea-taster is allowed to make 2 mistakes out of 6 choices (given 12 cups), then there is a 28% chance that they will \"pass\" the test and that the null hypothesis will be rejected (we assume she has some power of choosing correctly beyond random chance). \n",
    "\n",
    "Therefore there is a significant probability (28%) that the experiment will generate a false positive, i.e., the taster will choose 4 correct cups out of 6 purely by chance. By comparison, allowing only 1 mistake would mean a <5% chance of picking 5 correct cups. \n",
    "\n",
    "In conclusion, allowing 2 mistakes (out of 6) introduces a significant probability of the test resulting in a **false positive** (28% chance). Allowing only 1 mistake out of 6 makes for a more robust experiment in that a false positive is unlikely (<5% probability)."
   ]
  },
  {
   "cell_type": "markdown",
   "metadata": {},
   "source": [
    "## Task 2 - numpy's Normal Distribution <a id=\"Task2\"></a> <span style=\"font-size: 8pt;\"> [[TOC]](#toc)</span>"
   ]
  },
  {
   "cell_type": "markdown",
   "metadata": {},
   "source": [
    "A random data set of 100000 numbers is generated using numpy's random.normal function [7]."
   ]
  },
  {
   "cell_type": "code",
   "execution_count": null,
   "metadata": {},
   "outputs": [],
   "source": [
    "# Define n as the number of samples, mean and standard deviation\n",
    "n = 100000\n",
    "mean = 10\n",
    "st_dev = 3\n",
    "\n",
    "# Generate the random normal distributed data with numpy generator [7]\n",
    "np.random.seed(42)\n",
    "data = np.random.normal(loc=mean, scale=st_dev, size=n)\n",
    "data"
   ]
  },
  {
   "cell_type": "code",
   "execution_count": null,
   "metadata": {},
   "outputs": [],
   "source": [
    "# Visualise the data with a histogram as data is not discrete\n",
    "plt.hist(data, bins=50);\n",
    "plt.title('Numpy Random Normal Distribution (n=100000)')\n",
    "plt.xlabel('Value')\n",
    "plt.ylabel('No of Samples')\n",
    "plt.show()"
   ]
  },
  {
   "cell_type": "markdown",
   "metadata": {},
   "source": [
    "#### The Shapiro-Wilk Test\n",
    "\n",
    "The Shapiro-Wilk test is a statistical hypothesis test of normality [5]. The null hypothesis of the test is that the data is normally distributed. If the p-value is less than the chosen alpha level, then the null hypothesis is rejected and there is evidence that the data is not normally distributed.\n",
    "\n",
    "The p-value is the probability of observing a test statistic as extreme as the one computed, assuming that the null hypothesis is true. The p-value is used to determine the significance of the test. If the p-value is less than the significance level, the data is not normal.\n",
    "\n",
    "In the example below, where the data has been generated using numpy's random.normal function, the Shapiro-Wilk test returns a p-value of 0.5. The p-value is compared to the alpha or significance level of 0.05 to determine if the null hypothesis can be rejected. The returned value of 0.501 indicates that strong evidence to accept the null hypothesis (i.e., that the data is normally distributed).\n",
    "\n",
    "The statistic or W value is a measure of the strength of the relationship between the data and the normal distribution. The closer W is to 1, the more likely the data is to be normally distributed."
   ]
  },
  {
   "cell_type": "code",
   "execution_count": null,
   "metadata": {},
   "outputs": [],
   "source": [
    "# Run the Shapiro-Wilk test as included in scipy.stats [8]\n",
    "statistic, pvalue = stats.shapiro(data)\n",
    "print(f'Statistic: {statistic:.6f}, p-value: {pvalue:.6f}')"
   ]
  },
  {
   "cell_type": "markdown",
   "metadata": {},
   "source": [
    "The normal distribution probability distribution function is included in scipy stats package [6]. The random generated data can be automatically scaled when it is plotted using the plt.hist function. As expected, there is close agreement between the histogram of the data and the normal distribution pdf curve.\n"
   ]
  },
  {
   "cell_type": "code",
   "execution_count": null,
   "metadata": {},
   "outputs": [],
   "source": [
    "# Using scipy stats for normal pdf\n",
    "no_of_bins = 100\n",
    "plt.figure(figsize=(8, 6))\n",
    "\n",
    "# Plot the normal random data normalised, return the bins and counts\n",
    "count, bins, _ = plt.hist(data, bins=no_of_bins, density=True)  \n",
    "\n",
    "# Use the bins returned from the histogram to plot the normal pdf\n",
    "pdf_fitted_norm = stats.norm.pdf(bins, loc=mean, scale=st_dev)  \n",
    "plt.plot(bins, pdf_fitted_norm, 'r', label='Normal PDF');\n",
    "plt.title('Random Normal Data (n=100000) and Fitted Normal PDF')\n",
    "plt.legend();"
   ]
  },
  {
   "cell_type": "markdown",
   "metadata": {},
   "source": [
    "### Task 3 - t-test Calculation <a id=\"Task3\"></a> <span style=\"font-size: 8pt;\"> [[TOC]](#toc)</span>"
   ]
  },
  {
   "cell_type": "markdown",
   "metadata": {},
   "source": [
    "The resting heart rate data before and after a 2 week exercise program is given in the table:\n",
    "\n",
    "| Patient ID |  0 |  1 |  2 |  3 |  4 |  5 |  6 |  7 |  8 |  9 |\n",
    "|:-----------|---:|---:|---:|---:|---:|---:|---:|---:|---:|---:|\n",
    "| Before     | 63 | 68 | 70 | 64 | 74 | 67 | 70 | 57 | 66 | 65 |\n",
    "| After      | 64 | 64 | 68 | 64 | 73 | 70 | 72 | 54 | 61 | 63 |\n",
    "\n",
    "\n"
   ]
  },
  {
   "cell_type": "markdown",
   "metadata": {},
   "source": [
    "### Assumptions\n",
    "In performing a t-test on the dataset, We wish to determine if the null hypothesis should be accepted or rejected. The null hypothesis being that the means of the two datasets are equal or there is no statistical difference between the two sets.\n",
    "\n",
    "The assumptions for a valid dependent or paired t-test are:\n",
    "-  The dependent variable is measured on a continuous scale - the before and after intervention resting heart rate here satisfies this criterion.\n",
    "-  The data is listed by patient so consists of matched pairs of heart rates. Each patient's resting heart rate has been measured on two occasions. \n",
    "- "
   ]
  },
  {
   "cell_type": "code",
   "execution_count": null,
   "metadata": {},
   "outputs": [],
   "source": [
    "# The table has been saved in /data/task3_ttest.txt.\n",
    "# Read in the data and do some formatting\n",
    "patient_data = pd.read_csv('data/task3_ttest.txt', delimiter='|')\n",
    "patient_data\n"
   ]
  },
  {
   "cell_type": "code",
   "execution_count": null,
   "metadata": {},
   "outputs": [],
   "source": [
    "# Drop the first 2 columns and last column and transpose\n",
    "patient_data = patient_data.drop(patient_data.columns[[0, 1,-1]], axis=1)\n",
    "patient_data = patient_data.transpose()\n",
    "patient_data "
   ]
  },
  {
   "cell_type": "code",
   "execution_count": null,
   "metadata": {},
   "outputs": [],
   "source": [
    "# Apply the column names and add the patient ID\n",
    "patient_data.columns = ['Before', 'After']\n",
    "patient_data['Patient ID'] = patient_data.index\n",
    "patient_data"
   ]
  },
  {
   "cell_type": "code",
   "execution_count": null,
   "metadata": {},
   "outputs": [],
   "source": [
    "# Convert the data to numpy arrays and change to type float in preparation for statistical analysis\n",
    "before = np.array(patient_data['Before']).astype(float)\n",
    "after = np.array(patient_data['After']).astype(float)\n",
    "before, after"
   ]
  },
  {
   "cell_type": "markdown",
   "metadata": {},
   "source": [
    "### Basic Statistics\n",
    "\n",
    "- The mean of the before dataset is 66.4 and the after dataset is 65.3. That is a 1.7% reduction. \n",
    "- All the statistics, apart from the max and the standard deviation have reduced in the after dataset.\n",
    "- The after dataset has a larger standard deviation and there is greater difference between the mean and median values than seen in the before dataset."
   ]
  },
  {
   "cell_type": "code",
   "execution_count": null,
   "metadata": {},
   "outputs": [],
   "source": [
    "# Display the basic statistics and variance\n",
    "pd.options.display.float_format = '{:.1f}'.format\n",
    "print(patient_data.describe())\n",
    "print(f'variance {np.var(before):.1f}\\t{np.var(after):.1f}\\n')\n",
    "print(f'{(np.mean(before)-np.mean(after))/np.mean(before)*100:.1f}% reduction in mean')"
   ]
  },
  {
   "cell_type": "code",
   "execution_count": null,
   "metadata": {},
   "outputs": [],
   "source": [
    "# Boxplot of the data in seaborn showing the means\n",
    "fig, ax = plt.subplots(figsize=(4, 4))\n",
    "\n",
    "sns.boxplot(patient_data)\n",
    "# Plot the means\n",
    "ax.scatter(0, y=np.mean(before), color='black', s=40, marker='o', zorder=3)\n",
    "ax.scatter(1, y=np.mean(after), color='black', label=\"Mean\", s=40, marker='o', zorder=3)\n",
    "ax.set(ylabel=\"Resting Heart Rate (bpm)\")\n",
    "plt.legend()\n",
    "plt.show()\n"
   ]
  },
  {
   "cell_type": "code",
   "execution_count": null,
   "metadata": {},
   "outputs": [],
   "source": [
    "fig, ax = plt.subplots(figsize=(8, 6))\n",
    "sns.histplot(before, bins=3, color='blue', alpha=0.5, label='Before', kde=True);\n",
    "sns.histplot(after, bins=4, color='red', alpha=0.5, label='After', kde=True);\n",
    "\n",
    "mean_before = np.mean(before)\n",
    "std_dev_before = np.std(before)\n",
    "\n",
    "mean_after= np.mean(after)\n",
    "std_dev2_after = np.std(after)\n",
    "\n",
    "# Add in the mean lines\n",
    "ax.axvline(mean_before, color='blue', linestyle='dashed', linewidth=1)\n",
    "ax.axvline(mean_after, color='red', linestyle='dashed', linewidth=1)\n",
    "\n",
    "plt.legend();\n"
   ]
  },
  {
   "cell_type": "markdown",
   "metadata": {},
   "source": [
    "The Shapiro Wilk test (as above) is used to test the normality of the data. The high p-values for both the \"Before\" and \"After\" dataset suggest that there is no evidence to reject the null hypothesis that the data is normally distributed."
   ]
  },
  {
   "cell_type": "code",
   "execution_count": null,
   "metadata": {},
   "outputs": [],
   "source": [
    "# Shapiro-Wilk test for normality\n",
    "print(f'Before: statistic: {stats.shapiro(before)[0]:.2f}, p-value: {stats.shapiro(before)[1]:.2f}')\n",
    "print(f'After: statistic: {stats.shapiro(after)[0]:.2f}, p-value: {stats.shapiro(after)[1]:.2f}')\n",
    "print(f'delta: statistic: {stats.shapiro(after-before)[0]:.2f}, p-value: {stats.shapiro(after-before)[1]:.2f}')\n"
   ]
  },
  {
   "cell_type": "code",
   "execution_count": null,
   "metadata": {},
   "outputs": [],
   "source": [
    "# Create a swarmplot [12]\n",
    "plt.figure(figsize=(4, 6))\n",
    "ax = sns.swarmplot(data=patient_data);\n",
    "ax.set_ylabel('Resting Heart Rate (bpm)');\n",
    "ax.grid(axis='y')"
   ]
  },
  {
   "cell_type": "markdown",
   "metadata": {},
   "source": [
    "### Statistical $t$-Test Result\n",
    "- The t-test that is performed is a paired or dependent t-test as the measurements were peformed twice on the same patients [10]. \n",
    "- The result of the t-test would suggest that there is **no evidence that the null hypothesis should be rejected**, i.e., the observed difference between the two sets of data is **not statistically significant**.\n",
    "- While the boxplots and statistical measurements have decreased in the after dataset and there maybe be some underlying causality, there isn't a high probability that the decrease is due to the exercise regime and not due to a random effect or noise."
   ]
  },
  {
   "cell_type": "code",
   "execution_count": null,
   "metadata": {},
   "outputs": [],
   "source": [
    "# Perform the related / paired t-test [13]\n",
    "t_stat, p_value = stats.ttest_rel(after, before)\n",
    "print(f\"t({after.size-1}) = {t_stat:.5f}, p<{p_value:.5f}, df={after.size-1}\")"
   ]
  },
  {
   "cell_type": "markdown",
   "metadata": {},
   "source": [
    "The t-test for dependent pairs may be calculated using the following [10]:\n",
    "\n",
    "$ t = \\frac{\\bar{X}_D-\\mu_0}{s_D/\\sqrt n} $,    \n",
    "\n",
    "where, $ \\bar{X}_D $ and  $s_D $ are the average and standard deviation of the differences between all the pairs, $ \\mu_0 $ is 0 to test if the average of the difference is statistically significant and $n$ is the degrees of freedom, in this case, the number of pairs less 1."
   ]
  },
  {
   "cell_type": "code",
   "execution_count": null,
   "metadata": {},
   "outputs": [],
   "source": [
    "# Function to calculate the t-test statistic for paired data [10]\n",
    "def ttest_pair_stat(dataset1, dataset2, mu_0=0):\n",
    "  deltas = dataset2 - dataset1\n",
    "  deltas_mean = np.mean(deltas)\n",
    "  deltas_std = np.std(deltas)\n",
    "  n = dataset1.size - 1\n",
    "  ttest_paired = (deltas_mean - mu_0)/((deltas_std / n**0.5))\n",
    "  return ttest_paired, n\n",
    "\n",
    "\n",
    "print(f't({before.size-1}): {ttest_pair_stat(before, after)[0]:.5f}')"
   ]
  },
  {
   "cell_type": "code",
   "execution_count": null,
   "metadata": {},
   "outputs": [],
   "source": [
    "# Import some functions for ease of calculation\n",
    "\n",
    "nu = after.size - 1\n",
    "\n",
    "# from wikipedia [14] - function to calculate the pdf (not needed really)\n",
    "def ttest_pdf(nu, t):\n",
    "  a = gamma((nu+1)/2)\n",
    "  b = ((np.pi*nu)**0.5) * gamma(nu/2)\n",
    "  c = (1 + ((t**2)/nu))**(-1*(nu+1)/2)\n",
    "  f_t = (a / b) * c\n",
    "  return f_t\n",
    "\n",
    "# from wikipedia [14], taking the simplified version as nu approaches infinity to calculate the cdf\n",
    "def ttest_cdf(t): \n",
    "  cdf_f_t = 0.5*(1+erf(t/(2**0.5)))\n",
    "  return cdf_f_t\n",
    "ttest_pair_stat(before, after)\n",
    "\n",
    "print(f't-test stat: {ttest_pair_stat(before, after)[0]:.5f},  p-value: {ttest_cdf(ttest_pair_stat(before, after)[0]):.5f}')"
   ]
  },
  {
   "cell_type": "code",
   "execution_count": null,
   "metadata": {},
   "outputs": [],
   "source": [
    "# Plot the pdf and cdf\n",
    "t = np.arange(-5, 5, 0.1)\n",
    "plt.plot(t, ttest_pdf(nu, t))\n",
    "plt.plot(t, ttest_cdf(t));\n",
    "plt.ylabel(\"PDF or CDF\");"
   ]
  },
  {
   "cell_type": "code",
   "execution_count": null,
   "metadata": {},
   "outputs": [],
   "source": [
    "# Or do a numerical integration of the pdf\n",
    "\n",
    "# Define the limits\n",
    "a,b = -5, ttest_pair_stat(before, after)[0]\n",
    "\n",
    "x = np.linspace(a, b, 10000)\n",
    "y = ttest_pdf(nu, x)\n",
    "\n",
    "p_value_int = np.trapz(y, x)\n",
    "print(f'p-value: {p_value_int:.5f}')\n",
    "\n",
    "# Call \n",
    "p_value = ttest_cdf(b)\n",
    "p_value\n",
    "\n"
   ]
  },
  {
   "cell_type": "code",
   "execution_count": null,
   "metadata": {},
   "outputs": [],
   "source": [
    "p_value_int"
   ]
  },
  {
   "cell_type": "code",
   "execution_count": null,
   "metadata": {},
   "outputs": [],
   "source": [
    "plt.plot(x, y)"
   ]
  },
  {
   "cell_type": "markdown",
   "metadata": {},
   "source": [
    "### Task 4 - ANOVA <a id=\"Task4\"></a> <span style=\"font-size: 8pt;\"> [[TOC]](#toc)</span>"
   ]
  },
  {
   "cell_type": "code",
   "execution_count": null,
   "metadata": {},
   "outputs": [],
   "source": [
    "no_type_ii = 0\n",
    "\n",
    "# Function to generate 3 samples with 100 values each\n",
    "def generate_samples():\n",
    "  sample_1 = np.random.normal(loc=4.9, scale=0.1, size=100)\n",
    "  sample_2 = np.random.normal(loc=5.0, scale=0.1, size=100)\n",
    "  sample_3 = np.random.normal(loc=5.1, scale=0.1, size=100)\n",
    "  return sample_1, sample_2, sample_3"
   ]
  },
  {
   "cell_type": "markdown",
   "metadata": {},
   "source": [
    "### ANOVA Test Results\n",
    "\n",
    "If $p<0.05$, then the null hypothesis is rejected and the alternative hypothesis is accepted. In this case, the null hypothesis of the ANOVA test is that there is no statistically significant difference between the means of the datasets.\n",
    "\n",
    "A type 2 error is when the null hypothesis is not rejected when it is actually false, i.e., a false negative [18].\n",
    "\n",
    "In all the ANOVA tests below (carried out on the randomised datasets 10000 times), the value of $p$ is less than 0.05 and therefore on that basis, the null hypothesis is rejected, i.e., the means of the datasets are not equal.  Furthermore, when the test is repeated 10000 times, there is no instance where the p value is greater than 0.05. This suggests that there is a less than 1 in 10000 (<0.0001) probability that the null hypothesis would be rejected when it is in fact false.\n",
    "\n",
    "In the absence of a large dataset, a power analysis may be performed to assess the probability of a type 2 error."
   ]
  },
  {
   "cell_type": "code",
   "execution_count": null,
   "metadata": {},
   "outputs": [],
   "source": [
    "# Perform the data generation and ANOVA test 10000 times\n",
    "for _ in range(10000):\n",
    "  # Generate the samples\n",
    "  sample_1, sample_2, sample_3 = generate_samples()\n",
    "  # Perform the ANOVA test\n",
    "  f, p = stats.f_oneway(sample_1, sample_2, sample_3)\n",
    "  # Test if null hypothesis should be accepted or rejected using 0.05 threshold\n",
    "  if p > 0.05:\n",
    "    print('Null hypothesis not rejected')\n",
    "    no_type_ii += 1\n",
    "\n",
    "print(f'Number of Type II errors: {no_type_ii}')"
   ]
  },
  {
   "cell_type": "markdown",
   "metadata": {},
   "source": [
    "## References <a id=\"Ref\"></a> <span style=\"font-size: 8pt;\"> [[TOC]](#toc)</span>\n",
    "\n",
    "1. https://en.wikipedia.org/wiki/Lady_tasting_tea (accessed 23th Sept 2024)\n",
    "2. https://en.wikipedia.org/wiki/Hypergeometric_distribution (accessed 26th Sept 2024)\n",
    "3. https://numpy.org/doc/stable/reference/random/index.html (accessed 26th Sept 2024)\n",
    "4. https://docs.python.org/3/library/math.html#math.comb (accessed 5th Oct 2024)\n",
    "5. https://en.wikipedia.org/wiki/Shapiro%E2%80%93Wilk_test (accessed 20th Oct 2024)\n",
    "6. https://docs.scipy.org/doc/scipy/reference/generated/scipy.stats.norm.html (accessed 20th Oct 2024)\n",
    "7. Numpy Random normal generator: https://numpy.org/doc/2.0/reference/random/generated/numpy.random.normal.html#numpy-random-normal (accessed 30th Oct 2024)\n",
    "8. Scipy Shapiro-Wilk Test: https://docs.scipy.org/doc/scipy/reference/generated/scipy.stats.shapiro.html#shapiro (accessed 04th Nov 2024)\n",
    "9. Seaborn boxplot: https://seaborn.pydata.org/generated/seaborn.boxplot.html#seaborn-boxplot (accessed 10th Nov 2024)\n",
    "10. Student's t-test: https://en.wikipedia.org/wiki/Student%27s_t-test (accessed 10th Nov 2024)\n",
    "11. Seaborn stripplot: https://seaborn.pydata.org/generated/seaborn.stripplot.html#seaborn-stripplot (accessed 10th Nov 2024)\n",
    "12. Seaborn swarmplot: https://seaborn.pydata.org/generated/seaborn.swarmplot.html#seaborn-swarmplot (accessed 10th Nov 2024)\n",
    "13. Scipy ttest_rel: https://docs.scipy.org/doc/scipy/reference/generated/scipy.stats.ttest_rel.html#ttest-rel (accessed 10th Nov 2024)\n",
    "14. Student's t distribution: https://en.wikipedia.org/wiki/Student%27s_t-distribution#Table_of_selected_values\n",
    "15. Laerd \n",
    "16. Scipy stats one way ANOVA: https://docs.scipy.org/doc/scipy/reference/generated/scipy.stats.f_oneway.html#f-oneway (accessed 4th Dec 2024)\n",
    "17. Automatically create file \"requirements.txt\": https://stackoverflow.com/questions/31684375/automatically-create-file-requirements-txt (accessed 4th Dec 2024)\n",
    "18. Type 1 and Type 2 errors: https://en.wikipedia.org/wiki/Type_I_and_type_II_errors (accessed 4th Dec 2024)"
   ]
  },
  {
   "cell_type": "markdown",
   "metadata": {},
   "source": [
    "END\n",
    "___"
   ]
  }
 ],
 "metadata": {
  "kernelspec": {
   "display_name": "base",
   "language": "python",
   "name": "python3"
  },
  "language_info": {
   "codemirror_mode": {
    "name": "ipython",
    "version": 3
   },
   "file_extension": ".py",
   "mimetype": "text/x-python",
   "name": "python",
   "nbconvert_exporter": "python",
   "pygments_lexer": "ipython3",
   "version": "3.12.7"
  }
 },
 "nbformat": 4,
 "nbformat_minor": 2
}
