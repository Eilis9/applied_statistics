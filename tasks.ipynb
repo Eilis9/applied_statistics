{
 "cells": [
  {
   "cell_type": "markdown",
   "metadata": {},
   "source": [
    "<h1><img align=\"right\" width=\"350\" src=\"img/ATU-Logo-Full-RGB-Green.jpg\"> Applied Statistics - Module Tasks\n",
    "</h1>\n",
    "<p> \n",
    "Course: HDip in Computing in Data Analytics <br>\n",
    "Module: Applied Statistics <br>\n",
    "Lecturer: Ian McLoughlin <br>\n",
    "\n",
    "Module Tasks\n",
    "\n",
    "Student: Eilis Donohue (G00006088)\n",
    "\n",
    "\n",
    "Software Used: \n",
    " - Python v3.10 and higher [HOLD]\n",
    " - Jupyter Notebook 6.5.2 [HOLD] \n",
    " </p>\n",
    " \n",
    "---"
   ]
  },
  {
   "cell_type": "markdown",
   "metadata": {},
   "source": [
    "## Table of Contents\n",
    "- [Task 1 - Lady Tasting Tea](#Task1)\n",
    "- [Task 2 - numpy's Normal Distribution](#Task2)\n",
    "- [Task 3 - t-test Calculation](#Task3)\n",
    "- [Task 4 - ANOVA](#Task4)\n",
    "- [References](#Ref)\n",
    "\n",
    "\n",
    "---"
   ]
  },
  {
   "cell_type": "markdown",
   "metadata": {},
   "source": [
    "\n",
    "## Task 1 - Lady Tasting Tea <a id=\"Task1\"></a> <span style=\"font-size: 8pt;\"> [[TOC]](#toc)</span>\n",
    "\n",
    "### Background \n",
    "\n",
    "The Lady Tasting Tea is a hypothetical randomised experiment devised by Ronald Fisher and reported in his 1935 book \"The Design of Experiments\" [1]. In the experiment, a lady is asked to identify from 8 cups of tea, which 4 cups have had the milk added before the tea. \n",
    "\n",
    "Fisher's notion of the \"null hypothesis\" is demonstrated in the description of the experiment. The null hypothesis is that the lady has no ability to distinguish between the cups of tea. The alternative hypothesis is that the lady can distinguish between the cups which have the milk added first and vice versa."
   ]
  },
  {
   "cell_type": "markdown",
   "metadata": {},
   "source": [
    "### Experiment/Calculation Assumptions\n",
    "\n",
    "- The null hypothesis is assumed - that is that the lady has no special tasting powers and is choosing the cups at random. \n",
    "\n",
    "- The cups are indistinguishable from each other."
   ]
  },
  {
   "cell_type": "markdown",
   "metadata": {},
   "source": [
    "### Outcome\n",
    "Assuming the null hypothesis (the lady is guessing and has no special tasting powers), the probability of the lady selecting the 4 cups with the milk in first is 1 in 70 which is a less than 5% probability. This is calculated using the binomial coefficient formula [2].\n",
    "\n",
    "If the lady correctly identifies the 4 cups with the milk in first, then the null hypothesis may be rejected and the alternative hypothesis is accepted (she has a special tea tasting prowess).\n",
    "\n",
    "Fisher has demonstrated an experiment design where the null hypothesis can be tested and either accepted or rejected based on the outcome of the experiment, given the known probability of the lady selecting the 4 cups at random."
   ]
  },
  {
   "cell_type": "markdown",
   "metadata": {},
   "source": [
    "### The Binomial Coefficient\n",
    "\n",
    "Given the problem where there are 12 cups which 6 having the milk in first, the probability of picking the 6 cups, assuming the null hypothesis, is calculated below.\n",
    "\n",
    "The possible number of combinations considering n number of cups with k number which have the attribute are calculated using the binomial coefficient [1]:\n",
    "\n",
    "$ \\binom{n}{k} = \\frac{n!}{k!(n-k)!} $\n",
    "\n",
    "If there are 12 cups of tea - 6 of which have the tea added first then the problem is:\n",
    "\n",
    "$ \\binom{12}{6} = \\frac{12!}{6!(12-6)!} $\n",
    "\n",
    "This gives 924 possible permutations given a completely random outcome of 12 cups with 6 having the attribute (milk first). Therefore there is a 1 in 924 chance of identifying the 6 cups correctly."
   ]
  },
  {
   "cell_type": "markdown",
   "metadata": {},
   "source": [
    "### Derivation\n",
    "\n",
    "The Binomial coefficient above can be derived from the fact that 12! is the number of ways 12 things can be combined randomly:\n",
    "\n",
    "This is described by:\n",
    "\n",
    "$ 12! = 12 \\times 11 \\times 10 \\times 9 \\times 8 \\times 7 \\times 6 \\times 5 \\times 4 \\times 3 \\times 2 \\times 1 $\n",
    "\n",
    "In the experiment, only 6 things are being chosen from 12: \n",
    "\n",
    "This can be written as follows, where the 6! below the line cancels the last 6 terms of the 12! above the line:\n",
    "\n",
    "$ 12 \\times 11 \\times 10 \\times 9 \\times 8 \\times 7 = \\frac{12!}{6!} $\n",
    "\n",
    "This is the $ \\frac{n!}{(n-k)!} $ part of the Binomial equation above.\n",
    "\n",
    "This is equal to 665280 combinations."
   ]
  },
  {
   "cell_type": "markdown",
   "metadata": {},
   "source": [
    "However, for the purpose of the experiment where 6 unorderable things are picked, the order in which they are picked does not matter. The number of ways the 6 items could be ordered is equal to:\n",
    "\n",
    "$ 6! = 6 \\times 5 \\times 4 \\times 3 \\times 2 \\times 1 $\n",
    "\n",
    "This is equal to 720.\n",
    "\n",
    "So, the total number of combinations must be divided by the 720 ways the chosen items could be shuffled. This is the $ \\frac{1}{k!} $ part of the binomial coefficient equation above.\n",
    "\n",
    "This reduces the number of ways the 6 items can be picked (assuming that these are not orderable), to $ \\frac{665280}{720} = 924 $ \n",
    "\n",
    "So, if 6 things with a given attritube are to be picked, assuming that they're being chosen is entirely due to chance, the chances of the 6 things with the attribute being picked from a total of 12, is 1 in 924 or 0.11%."
   ]
  },
  {
   "cell_type": "code",
   "execution_count": 83,
   "metadata": {},
   "outputs": [
    {
     "data": {
      "text/plain": [
       "924.0"
      ]
     },
     "execution_count": 83,
     "metadata": {},
     "output_type": "execute_result"
    }
   ],
   "source": [
    "# Python implementation of the Binomial Coefficient equation\n",
    "import math\n",
    "import matplotlib.pyplot as plt\n",
    "\n",
    "# Function to compute the number of combinations of selection - The binomial coefficient [1]\n",
    "def binomial_coef(n, k):\n",
    "  combinations = math.factorial(n) / (math.factorial(k) * math.factorial (n - k))   \n",
    "  return combinations\n",
    "\n",
    "cups = 12\n",
    "choose = 6\n",
    "\n",
    "no_of_combinations = binomial_coef(cups, choose)\n",
    "no_of_combinations"
   ]
  },
  {
   "cell_type": "code",
   "execution_count": 84,
   "metadata": {},
   "outputs": [
    {
     "name": "stdout",
     "output_type": "stream",
     "text": [
      "The total number of combination selections for 12 cups where 6 are chosen is 924\n",
      "Probability of guessing 6 cups with given attribute correctly is 0.0011 or 0.11%\n"
     ]
    }
   ],
   "source": [
    "# Calculate the total number of combinations of picking 6 cups from 12 \n",
    "#total_combinations = binomial_coef(cups, choose)\n",
    "# Use math inbuilt .comb instead\n",
    "total_combinations = math.comb(cups, choose)  # [4]\n",
    "# The probability of picking all 6 with the attribute is (1 way of doing this)\n",
    "Prob_all_successes = 1 / total_combinations\n",
    "\n",
    "print(f'The total number of combination selections for {cups} cups where {choose} are chosen is {total_combinations:.0f}')\n",
    "print(f'Probability of guessing {choose} cups with given attribute correctly is {Prob_all_successes:.4f} or {Prob_all_successes*100:.2f}%')"
   ]
  },
  {
   "cell_type": "markdown",
   "metadata": {},
   "source": [
    "### The Hypergeometric Distribution [2]\n",
    "\n",
    "The hypergeometric distribution describes the probability distribution for this problem as above [2]. It is a discrete probability distribution that describes the probability of k successes (random draws for which the object drawn has a specified feature) in n draws, without replacement, from a finite population of size N that contains exactly K objects with that feature, wherein each draw is either a success or a failure.\n",
    "\n",
    "$ px(k) = Pr(X=k) = \\frac{\\binom{K}{k} \\binom{N-K}{n-k}}{\\binom{N}{n}} ,$\n",
    "\n",
    "where\n",
    "N is the population size\n",
    "\n",
    "K is the number of success states in the population\n",
    "\n",
    "n is the number of draws\n",
    "\n",
    "k is the number of observed successes\n"
   ]
  },
  {
   "cell_type": "code",
   "execution_count": 85,
   "metadata": {},
   "outputs": [
    {
     "name": "stdout",
     "output_type": "stream",
     "text": [
      "Probability of picking exactly 4 of 6 is 0.2435 \n",
      "exactly 5 of 6 is 0.0390 \n",
      "and 6 of 6 is 0.0011\n",
      "Probability of picking at least 4 with the attribute is 0.2835\n"
     ]
    }
   ],
   "source": [
    "# Implementation of the hypergeometric distribution\n",
    "# total number of items is N\n",
    "# no of items with the attribute is K\n",
    "# no of draws is n\n",
    "# successes is k\n",
    "#pmf =  (combinations_form(K, k) * combinations_form((N-K), (n-k)))/combinations_form(N,n)   # [2]\n",
    "\n",
    "pmf_4_of_6 = (binomial_coef(6, 4) * binomial_coef((12-6), (6-4)))/binomial_coef(12,6)   # [1]\n",
    "pmf_5_of_6 = (binomial_coef(6, 5) * binomial_coef((12-6), (6-5)))/binomial_coef(12,6)   # [1]\n",
    "pmf_6_of_6 = (binomial_coef(6, 6) * binomial_coef((12-6), (6-6)))/binomial_coef(12,6)   # [1]\n",
    "\n",
    "print(f'Probability of picking exactly 4 of 6 is {pmf_4_of_6:.4f} \\n' \n",
    "      f'exactly 5 of 6 is {pmf_5_of_6:.4f} \\n' \n",
    "      f'and 6 of 6 is {pmf_6_of_6:.4f}')\n",
    "# Add the probability of exactly 4, 5, 6 to get the probability of at least 4\n",
    "pmf_4_of_6_at_least = pmf_4_of_6 + pmf_5_of_6 + pmf_6_of_6\n",
    "\n",
    "print(f'Probability of picking at least 4 with the attribute is {pmf_4_of_6_at_least:.4f}')\n"
   ]
  },
  {
   "cell_type": "code",
   "execution_count": 86,
   "metadata": {},
   "outputs": [
    {
     "data": {
      "image/png": "[encoded data removed]",
      "text/plain": [
       "<Figure size 800x600 with 1 Axes>"
      ]
     },
     "metadata": {},
     "output_type": "display_data"
    }
   ],
   "source": [
    "# Generate the hypergeometric distribution for all possible outcomes and plot\n",
    "pmf = []\n",
    "for i in range(choose+1):\n",
    "      prob = (binomial_coef(choose, i) * binomial_coef((cups-choose), (choose-i)))/binomial_coef(cups,choose)   # [1]\n",
    "      pmf.append(prob)\n",
    "\n",
    "plt.figure(figsize=(8, 6))\n",
    "plt.bar(range(6 + 1), pmf, color='blue', alpha=0.7)\n",
    "plt.title('Hypergeometric Distribution (N=12, n=6)')\n",
    "plt.xlabel('Number of Successes (k)')\n",
    "plt.ylabel('Probability')\n",
    "plt.show()"
   ]
  },
  {
   "cell_type": "code",
   "execution_count": 87,
   "metadata": {},
   "outputs": [],
   "source": [
    "# Altenative method to calculate the probability of at least 4 successes (slightly different from lecture)\n",
    "# Create a list of the population\n",
    "\n",
    "import itertools\n",
    "import numpy as np\n",
    "import matplotlib.pyplot as plt\n",
    "# Random selections.\n",
    "# https://docs.python.org/3/library/random.html\n",
    "import random"
   ]
  },
  {
   "cell_type": "code",
   "execution_count": 88,
   "metadata": {},
   "outputs": [],
   "source": [
    "#cups = ['milk_first','milk_first', 'milk_first', 'milk_first', 'milk_first', 'milk_first', 'tea_first', 'tea_first', 'tea_first', 'tea_first', 'tea_first', 'tea_first']\n",
    "cups = ['milk_first','milk_first', 'milk_first', 'milk_first', 'tea_first', 'tea_first', 'tea_first', 'tea_first']\n",
    "\n",
    "cups_to_choose = 4"
   ]
  },
  {
   "cell_type": "code",
   "execution_count": 89,
   "metadata": {},
   "outputs": [
    {
     "name": "stdout",
     "output_type": "stream",
     "text": [
      "The number of ways of picking 6 items from the population is 70\n"
     ]
    }
   ],
   "source": [
    "# The ways to choose 6 cups from 12\n",
    "combs = list(itertools.combinations(cups, cups_to_choose))\n",
    "print(f'The number of ways of picking 6 items from the population is {len(combs)}')"
   ]
  },
  {
   "cell_type": "code",
   "execution_count": 90,
   "metadata": {},
   "outputs": [],
   "source": [
    "# For each combination, count the number of 'milk_first' items\n",
    "milk_first_counts = [comb.count('milk_first') for comb in combs]"
   ]
  },
  {
   "cell_type": "code",
   "execution_count": 91,
   "metadata": {},
   "outputs": [
    {
     "data": {
      "image/png": "[encoded data removed]",
      "text/plain": [
       "<Figure size 800x600 with 1 Axes>"
      ]
     },
     "metadata": {},
     "output_type": "display_data"
    }
   ],
   "source": [
    "# Plot the histogram of the milk first cups in each combination\n",
    "plt.figure(figsize=(8, 6))\n",
    "counts, bins, _ = plt.hist(milk_first_counts, bins=range(0, max(milk_first_counts) + 2), align='left', rwidth=0.8)\n",
    "plt.xlabel('Number of \"milk_first\" in combination')\n",
    "plt.ylabel('Frequency')\n",
    "plt.title('Histogram of \"milk_first\" Counts in Combinations')\n",
    "plt.show()"
   ]
  },
  {
   "cell_type": "code",
   "execution_count": 92,
   "metadata": {},
   "outputs": [
    {
     "data": {
      "text/plain": [
       "array([ 1., 16., 36., 16.,  1.])"
      ]
     },
     "execution_count": 92,
     "metadata": {},
     "output_type": "execute_result"
    }
   ],
   "source": [
    "# The output from the histogram\n",
    "counts"
   ]
  },
  {
   "cell_type": "code",
   "execution_count": 93,
   "metadata": {},
   "outputs": [
    {
     "name": "stdout",
     "output_type": "stream",
     "text": [
      "Probability of picking at least 4 with the milk first is 0.0143 or 1.43%\n",
      "Probability of picking at least 5 with the milk first is 0.0000 or 0.00%\n"
     ]
    }
   ],
   "source": [
    "# Calculate the probability from the histogram data\n",
    "successes_4 = sum(counts[4:])\n",
    "successes_5 = sum(counts[5:])\n",
    "total_combinations = sum(counts)\n",
    "prob_4_or_more = successes_4 / total_combinations\n",
    "prob_5_or_more = successes_5 / total_combinations\n",
    "\n",
    "print(f'Probability of picking at least 4 with the milk first is {prob_4_or_more:.4f} or {prob_4_or_more*100:.2f}%')\n",
    "print(f'Probability of picking at least 5 with the milk first is {prob_5_or_more:.4f} or {prob_5_or_more*100:.2f}%')"
   ]
  },
  {
   "cell_type": "markdown",
   "metadata": {},
   "source": [
    "### Significance of allowing 2 mistakes [HOLD]\n",
    "\n",
    "So, if the experiment is designed whereby the lady or tea-taster is allowed to make 2 mistakes, then there is a 28% chance that they will \"pass\" the test. Therefore there is a significant probability that the experiment will generate a false positive, i.e., the taster will choose the correct cups purely by chance. By comparison, allowing only 1 mistake would mean a <5% chance of picking the correct cups. This makes for a more robust experiment in that a false positive is unlikely or at least there is a <5% probability of a false positive."
   ]
  },
  {
   "cell_type": "markdown",
   "metadata": {},
   "source": [
    "## Task 2 - numpy's Normal Distribution <a id=\"Task2\"></a> <span style=\"font-size: 8pt;\"> [[TOC]](#toc)</span>"
   ]
  },
  {
   "cell_type": "markdown",
   "metadata": {},
   "source": [
    "A random data set of 100000 numbers is generated using numpy's random.normal function [7]."
   ]
  },
  {
   "cell_type": "code",
   "execution_count": 94,
   "metadata": {},
   "outputs": [
    {
     "data": {
      "text/plain": [
       "array([11.49014246,  9.5852071 , 11.94306561, ..., 11.22755523,\n",
       "        9.36672499, 10.36018882])"
      ]
     },
     "execution_count": 94,
     "metadata": {},
     "output_type": "execute_result"
    }
   ],
   "source": [
    "# Generate the random normal distributed data with numpy generator [7]\n",
    "import numpy as np\n",
    "import matplotlib.pyplot as plt\n",
    "\n",
    "# n is the number of samples\n",
    "n = 100000\n",
    "mean = 10\n",
    "st_dev = 3\n",
    "\n",
    "# Generate the random data using numpy random normal\n",
    "np.random.seed(42)\n",
    "data = np.random.normal(loc=mean, scale=st_dev, size=n)\n",
    "data"
   ]
  },
  {
   "cell_type": "code",
   "execution_count": 95,
   "metadata": {},
   "outputs": [
    {
     "data": {
      "image/png": "[encoded data removed]",
      "text/plain": [
       "<Figure size 640x480 with 1 Axes>"
      ]
     },
     "metadata": {},
     "output_type": "display_data"
    }
   ],
   "source": [
    "# Visualise the data with a histogram as data is not discrete\n",
    "plt.hist(data, bins=50);\n",
    "plt.title('Numpy Random Normal Distribution (n=100000)')\n",
    "plt.xlabel('Value')\n",
    "plt.ylabel('No of Samples')\n",
    "plt.show()"
   ]
  },
  {
   "cell_type": "markdown",
   "metadata": {},
   "source": [
    "#### The Shapiro-Wilk Test\n",
    "\n",
    "The Shapiro-Wilk test is a statistical hypothesis test of normality [5]. The null hypothesis of the test is that the data is normally distributed. If the p-value is less than the chosen alpha level, then the null hypothesis is rejected and there is evidence that the data is not normally distributed.\n",
    "\n",
    "The p-value is the probability of observing a test statistic as extreme as the one computed, assuming that the null hypothesis is true. The p-value is used to determine the significance of the test. If the p-value is less than the significance level, the data is not normal.\n",
    "\n",
    "In the example below, where the data has been generated using numpy's random.normal function, the Shapiro-Wilk test returns a p-value of 0.5. The p-value is compared to the alpha or significance level of 0.05 to determine if the null hypothesis can be rejected. The returned value of 0.501 indicates that strong evidence to accept the null hypothesis (i.e., that the data is normally distributed).\n",
    "\n",
    "The statistic or W value is a measure of the strength of the relationship between the data and the normal distribution. The closer W is to 1, the more likely the data is to be normally distributed."
   ]
  },
  {
   "cell_type": "code",
   "execution_count": 96,
   "metadata": {},
   "outputs": [
    {
     "name": "stdout",
     "output_type": "stream",
     "text": [
      "Statistic: 0.999991, p-value: 0.999830\n"
     ]
    },
    {
     "name": "stderr",
     "output_type": "stream",
     "text": [
      "c:\\Users\\eilis.donohue\\AppData\\Local\\anaconda3\\Lib\\site-packages\\scipy\\stats\\_axis_nan_policy.py:531: UserWarning: scipy.stats.shapiro: For N > 5000, computed p-value may not be accurate. Current N is 100000.\n",
      "  res = hypotest_fun_out(*samples, **kwds)\n"
     ]
    }
   ],
   "source": [
    "# scipy.stats.shapiro() test\n",
    "import scipy.stats as stats\n",
    "\n",
    "# Run the Shapiro-Wilk test as included in scipy.stats\n",
    "statistic, pvalue = stats.shapiro(data)\n",
    "\n",
    "print(f'Statistic: {statistic:.6f}, p-value: {pvalue:.6f}')"
   ]
  },
  {
   "cell_type": "markdown",
   "metadata": {},
   "source": [
    "The normal distribution probability distribution function is included in scipy stats package [6]. The random generated data can be automatically scaled when it is plotted using the plt.hist function. As expected, there is close agreement between the histogram of the data and the normal distribution pdf curve.\n"
   ]
  },
  {
   "cell_type": "code",
   "execution_count": 97,
   "metadata": {},
   "outputs": [
    {
     "data": {
      "image/png": "[encoded data removed]",
      "text/plain": [
       "<Figure size 800x600 with 1 Axes>"
      ]
     },
     "metadata": {},
     "output_type": "display_data"
    }
   ],
   "source": [
    "# Using scipy stats for normal pdf\n",
    "no_of_bins = 100\n",
    "plt.figure(figsize=(8, 6))\n",
    "\n",
    "# Plot the normal random data normalised, return the bins and counts\n",
    "count, bins, _ = plt.hist(data, bins=no_of_bins, density=True)  \n",
    "\n",
    "# Use the bins returned from the histogram to plot the normal pdf\n",
    "pdf_fitted_norm = stats.norm.pdf(bins, loc=mean, scale=st_dev)  \n",
    "plt.plot(bins, pdf_fitted_norm, 'r', label='Normal PDF');\n",
    "plt.title('Random Normal Data (n=100000) and Fitted Normal PDF')\n",
    "plt.legend();"
   ]
  },
  {
   "cell_type": "markdown",
   "metadata": {},
   "source": [
    "### Task 3 - t-test Calculation <a id=\"Task3\"></a> <span style=\"font-size: 8pt;\"> [[TOC]](#toc)</span>"
   ]
  },
  {
   "cell_type": "markdown",
   "metadata": {},
   "source": [
    "| Patient ID |  0 |  1 |  2 |  3 |  4 |  5 |  6 |  7 |  8 |  9 |\n",
    "|:-----------|---:|---:|---:|---:|---:|---:|---:|---:|---:|---:|\n",
    "| Before     | 63 | 68 | 70 | 64 | 74 | 67 | 70 | 57 | 66 | 65 |\n",
    "| After      | 64 | 64 | 68 | 64 | 73 | 70 | 72 | 54 | 61 | 63 |"
   ]
  },
  {
   "cell_type": "markdown",
   "metadata": {},
   "source": [
    "[hold] do some plots and shapiro test etc ,.....\n",
    "\n",
    "The null hypothesis being that the means are equal or there is no statistical difference between the two sets"
   ]
  },
  {
   "cell_type": "code",
   "execution_count": 119,
   "metadata": {},
   "outputs": [],
   "source": [
    "import pandas as pd\n",
    "patient_data = pd.read_csv('data/task3_ttest.txt', delimiter='|')\n"
   ]
  },
  {
   "cell_type": "code",
   "execution_count": 120,
   "metadata": {},
   "outputs": [],
   "source": [
    "patient_data = patient_data.drop(patient_data.columns[[0, 1,-1]], axis=1)\n",
    "patient_data = patient_data.transpose()"
   ]
  },
  {
   "cell_type": "code",
   "execution_count": null,
   "metadata": {},
   "outputs": [],
   "source": [
    "patient_data.columns = ['Before', 'After']\n",
    "patient_data['Patient ID'] = patient_data.index"
   ]
  },
  {
   "cell_type": "code",
   "execution_count": null,
   "metadata": {},
   "outputs": [
    {
     "data": {
      "text/html": [
       "<div>\n",
       "<style scoped>\n",
       "    .dataframe tbody tr th:only-of-type {\n",
       "        vertical-align: middle;\n",
       "    }\n",
       "\n",
       "    .dataframe tbody tr th {\n",
       "        vertical-align: top;\n",
       "    }\n",
       "\n",
       "    .dataframe thead th {\n",
       "        text-align: right;\n",
       "    }\n",
       "</style>\n",
       "<table border=\"1\" class=\"dataframe\">\n",
       "  <thead>\n",
       "    <tr style=\"text-align: right;\">\n",
       "      <th></th>\n",
       "      <th>Before</th>\n",
       "      <th>After</th>\n",
       "      <th>Patient ID</th>\n",
       "    </tr>\n",
       "  </thead>\n",
       "  <tbody>\n",
       "    <tr>\n",
       "      <th>0</th>\n",
       "      <td>63</td>\n",
       "      <td>64</td>\n",
       "      <td>0</td>\n",
       "    </tr>\n",
       "    <tr>\n",
       "      <th>1</th>\n",
       "      <td>68</td>\n",
       "      <td>64</td>\n",
       "      <td>1</td>\n",
       "    </tr>\n",
       "    <tr>\n",
       "      <th>2</th>\n",
       "      <td>70</td>\n",
       "      <td>68</td>\n",
       "      <td>2</td>\n",
       "    </tr>\n",
       "    <tr>\n",
       "      <th>3</th>\n",
       "      <td>64</td>\n",
       "      <td>64</td>\n",
       "      <td>3</td>\n",
       "    </tr>\n",
       "    <tr>\n",
       "      <th>4</th>\n",
       "      <td>74</td>\n",
       "      <td>73</td>\n",
       "      <td>4</td>\n",
       "    </tr>\n",
       "    <tr>\n",
       "      <th>5</th>\n",
       "      <td>67</td>\n",
       "      <td>70</td>\n",
       "      <td>5</td>\n",
       "    </tr>\n",
       "    <tr>\n",
       "      <th>6</th>\n",
       "      <td>70</td>\n",
       "      <td>72</td>\n",
       "      <td>6</td>\n",
       "    </tr>\n",
       "    <tr>\n",
       "      <th>7</th>\n",
       "      <td>57</td>\n",
       "      <td>54</td>\n",
       "      <td>7</td>\n",
       "    </tr>\n",
       "    <tr>\n",
       "      <th>8</th>\n",
       "      <td>66</td>\n",
       "      <td>61</td>\n",
       "      <td>8</td>\n",
       "    </tr>\n",
       "    <tr>\n",
       "      <th>9</th>\n",
       "      <td>65</td>\n",
       "      <td>63</td>\n",
       "      <td>9</td>\n",
       "    </tr>\n",
       "  </tbody>\n",
       "</table>\n",
       "</div>"
      ],
      "text/plain": [
       "    Before  After Patient ID\n",
       "0       63     64         0 \n",
       "1       68     64         1 \n",
       "2       70     68         2 \n",
       "3       64     64         3 \n",
       "4       74     73         4 \n",
       "5       67     70         5 \n",
       "6       70     72         6 \n",
       "7       57     54         7 \n",
       "8       66     61         8 \n",
       "9       65     63         9 "
      ]
     },
     "execution_count": 135,
     "metadata": {},
     "output_type": "execute_result"
    }
   ],
   "source": [
    "patient_data"
   ]
  },
  {
   "cell_type": "code",
   "execution_count": null,
   "metadata": {},
   "outputs": [
    {
     "data": {
      "text/plain": [
       "(array([63., 68., 70., 64., 74., 67., 70., 57., 66., 65.]),\n",
       " array([64., 64., 68., 64., 73., 70., 72., 54., 61., 63.]))"
      ]
     },
     "execution_count": 136,
     "metadata": {},
     "output_type": "execute_result"
    }
   ],
   "source": [
    "# Convert the measured data to numpy arrays and change to type float in preparation for statistical analysis\n",
    "before = np.array(patient_data['Before']).astype(float)\n",
    "after = np.array(patient_data['After']).astype(float)\n",
    "before, after"
   ]
  },
  {
   "cell_type": "code",
   "execution_count": null,
   "metadata": {},
   "outputs": [],
   "source": [
    "fig, ax = plt.subplots()"
   ]
  },
  {
   "cell_type": "code",
   "execution_count": 137,
   "metadata": {},
   "outputs": [
    {
     "name": "stdout",
     "output_type": "stream",
     "text": [
      "t-statistic: 0.4740968275126808, p-value: 0.6411310132871086\n"
     ]
    }
   ],
   "source": [
    "t_stat, p_value = stats.ttest_ind(before, after)\n",
    "print(f\"t-statistic: {t_stat}, p-value: {p_value}\")"
   ]
  },
  {
   "cell_type": "markdown",
   "metadata": {},
   "source": [
    "### Task 4 - ANOVA <a id=\"Task4\"></a> <span style=\"font-size: 8pt;\"> [[TOC]](#toc)</span>"
   ]
  },
  {
   "cell_type": "markdown",
   "metadata": {},
   "source": [
    "## References <a id=\"Ref\"></a> <span style=\"font-size: 8pt;\"> [[TOC]](#toc)</span>\n",
    "\n",
    "1. https://en.wikipedia.org/wiki/Lady_tasting_tea (accessed 23th Sept 2024)\n",
    "2. https://en.wikipedia.org/wiki/Hypergeometric_distribution (accessed 26th Sept 2024)\n",
    "3. https://numpy.org/doc/stable/reference/random/index.html (accessed 26th Sept 2024)\n",
    "4. https://docs.python.org/3/library/math.html#math.comb (accessed 5th Oct 2024)\n",
    "5. https://en.wikipedia.org/wiki/Shapiro%E2%80%93Wilk_test (accessed 20th Oct 2024)\n",
    "6. https://docs.scipy.org/doc/scipy/reference/generated/scipy.stats.norm.html (accessed 20th Oct 2024)\n",
    "7. Numpy Random normal generator: https://numpy.org/doc/2.0/reference/random/generated/numpy.random.normal.html#numpy-random-normal (accessed 30th Oct 2024)\n",
    "8. Scipy Shapiro-Wilk Test: https://docs.scipy.org/doc/scipy/reference/generated/scipy.stats.shapiro.html#shapiro (accessed 04th Nov 2024)"
   ]
  },
  {
   "cell_type": "code",
   "execution_count": null,
   "metadata": {},
   "outputs": [],
   "source": []
  },
  {
   "cell_type": "code",
   "execution_count": null,
   "metadata": {},
   "outputs": [],
   "source": []
  },
  {
   "cell_type": "markdown",
   "metadata": {},
   "source": []
  },
  {
   "cell_type": "markdown",
   "metadata": {},
   "source": []
  }
 ],
 "metadata": {
  "kernelspec": {
   "display_name": "base",
   "language": "python",
   "name": "python3"
  },
  "language_info": {
   "codemirror_mode": {
    "name": "ipython",
    "version": 3
   },
   "file_extension": ".py",
   "mimetype": "text/x-python",
   "name": "python",
   "nbconvert_exporter": "python",
   "pygments_lexer": "ipython3",
   "version": "3.12.7"
  }
 },
 "nbformat": 4,
 "nbformat_minor": 2
}
